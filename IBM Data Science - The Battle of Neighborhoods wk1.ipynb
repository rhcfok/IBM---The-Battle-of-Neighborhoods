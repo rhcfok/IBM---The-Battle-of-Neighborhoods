{
 "cells": [
  {
   "cell_type": "markdown",
   "metadata": {},
   "source": [
    "**Week 1 The Battle of Neighborhoods** "
   ]
  },
  {
   "cell_type": "markdown",
   "metadata": {},
   "source": [
    "**Introduction:**\n",
    "James, an experienced pilot and popular chef on Youtube. He has been made redundant recently due to covid-19 pandanmic. \n",
    "He is certainly wealthy at this stage. Though losing his pilot job would give him more time to produce more videos on Youtube, however he wants to do something concrete and serve his audience in person with his food. So now James has an idea, which is to make use of his popularity on Youtube for his new restaurant. He believes his new restaurant can draw attentions by his food and popularity\n",
    "\n",
    "**Problem:**\n",
    "To satisfy his needs, he has to determine which town in Hong Kong is surrounded by crowd and type of restaurant which easily gets popular. Thus, the selection criteria can be measured by the following\n",
    "1. Location: total population and population density of Districts in Hong Kong\n",
    "2. Type of popular restaurants in selected District : The type of restaurant which is registered with high volume of total ratings and tips from Foursquare"
   ]
  },
  {
   "cell_type": "markdown",
   "metadata": {},
   "source": [
    "**Data requirements:**\n",
    "\n",
    "1. List of towns in HK as well as the data pertaining to Latitude/Longitude\n",
    "2. Population of District\n",
    "3. List of restaurants in the selected District and the data pertaining to volume of ratings and tips"
   ]
  },
  {
   "cell_type": "markdown",
   "metadata": {},
   "source": [
    "**Data source:**\n",
    "\n",
    "https://en.wikipedia.org/wiki/List_of_towns_in_Hong_Kong\n",
    "\n",
    "https://en.wikipedia.org/wiki/Districts_of_Hong_Kong\n",
    "\n",
    "Foursquare"
   ]
  },
  {
   "cell_type": "code",
   "execution_count": null,
   "metadata": {},
   "outputs": [],
   "source": []
  },
  {
   "cell_type": "code",
   "execution_count": null,
   "metadata": {},
   "outputs": [],
   "source": []
  },
  {
   "cell_type": "code",
   "execution_count": null,
   "metadata": {},
   "outputs": [],
   "source": []
  },
  {
   "cell_type": "code",
   "execution_count": null,
   "metadata": {},
   "outputs": [],
   "source": []
  },
  {
   "cell_type": "code",
   "execution_count": null,
   "metadata": {},
   "outputs": [],
   "source": []
  },
  {
   "cell_type": "code",
   "execution_count": null,
   "metadata": {},
   "outputs": [],
   "source": []
  },
  {
   "cell_type": "code",
   "execution_count": null,
   "metadata": {},
   "outputs": [],
   "source": []
  }
 ],
 "metadata": {
  "kernelspec": {
   "display_name": "Python 3",
   "language": "python",
   "name": "python3"
  },
  "language_info": {
   "codemirror_mode": {
    "name": "ipython",
    "version": 3
   },
   "file_extension": ".py",
   "mimetype": "text/x-python",
   "name": "python",
   "nbconvert_exporter": "python",
   "pygments_lexer": "ipython3",
   "version": "3.7.3"
  }
 },
 "nbformat": 4,
 "nbformat_minor": 4
}
